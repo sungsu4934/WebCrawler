{
 "cells": [
  {
   "cell_type": "code",
   "execution_count": null,
   "metadata": {},
   "outputs": [],
   "source": [
    "import numpy as np\n",
    "import pandas as pd \n",
    "import time\n",
    "import requests\n",
    "from lxml.html import fromstring\n",
    "from fake_useragent import UserAgent\n",
    "\n",
    "ua = UserAgent()\n",
    "headers = {'User-Agent' : ua.random}"
   ]
  },
  {
   "cell_type": "code",
   "execution_count": null,
   "metadata": {},
   "outputs": [],
   "source": [
    "result = pd.read_csv('../데이터/news_크롤링.csv')\n",
    "result"
   ]
  },
  {
   "cell_type": "markdown",
   "metadata": {},
   "source": [
    "# 제목 및 본문 크롤링"
   ]
  },
  {
   "cell_type": "code",
   "execution_count": null,
   "metadata": {},
   "outputs": [],
   "source": [
    "def get_information(url, headers, news_type):\n",
    "    \n",
    "    if news_type == 'sports':\n",
    "        title_xpath = '//*[@id=\"content\"]/div/div[1]/div/div[1]/h4'\n",
    "        text_xpath = '//*[@id=\"newsEndContents\"]/text()'\n",
    "        \n",
    "    elif news_type == 'normal_news':\n",
    "        title_xpath = '//*[@id=\"articleTitle\"]'\n",
    "        text_xpath = '//*[@id=\"articleBodyContents\"]/text()'\n",
    "        \n",
    "    elif news_type == 'etc':\n",
    "        title_xpath = '//*[@id=\"content\"]/div[1]/div/h2'\n",
    "        text_xpath = '//*[@id=\"articeBody\"]/text()'\n",
    "        \n",
    "    res = requests.get(url, headers=headers)\n",
    "    parser = fromstring(res.text)\n",
    "\n",
    "    title = parser.xpath(title_xpath)[0].text_content()\n",
    "    text = ''.join(parser.xpath(text_xpath))  \n",
    "    \n",
    "    return [title, text]"
   ]
  },
  {
   "cell_type": "code",
   "execution_count": null,
   "metadata": {},
   "outputs": [],
   "source": [
    "print(f'전체 url 개수: {result.shape[0]}개')\n",
    "start = time.time()\n",
    "\n",
    "for idx in range(result.shape[0]):\n",
    "    \n",
    "    url = result.loc[idx, 'url']\n",
    "    \n",
    "    try:\n",
    "        try: \n",
    "            result.loc[idx, ['제목', '내용']] = get_information(url, headers, 'normal_news') # 일반뉴스\n",
    "\n",
    "        except:\n",
    "            try: \n",
    "                result.loc[idx, ['제목', '내용']] = get_information(url, headers, 'sports') # 스포츠뉴스\n",
    "\n",
    "            except: \n",
    "                result.loc[idx, ['제목', '내용']] = get_information(url, headers, 'etc') #연예 뉴스 등 기타 형태의 뉴스\n",
    "            \n",
    "    except: \n",
    "        print(f'=== {idx+1}번째 {url} 에러 발생 ===') # 링크 수집 후 닫힌 url에 대한 대처\n",
    "\n",
    "    if (idx+1) % 10 == 0:\n",
    "        print(f'=== {idx+1}번째 url까지 완료 === 경과시간: {round(time.time() - start)}초') #log\n",
    "        \n",
    "result.to_csv('../데이터/네이버뉴스_크롤링.csv', index=False)"
   ]
  }
 ],
 "metadata": {
  "kernelspec": {
   "display_name": "Python 3",
   "language": "python",
   "name": "python3"
  },
  "language_info": {
   "codemirror_mode": {
    "name": "ipython",
    "version": 3
   },
   "file_extension": ".py",
   "mimetype": "text/x-python",
   "name": "python",
   "nbconvert_exporter": "python",
   "pygments_lexer": "ipython3",
   "version": "3.8.5"
  }
 },
 "nbformat": 4,
 "nbformat_minor": 4
}
