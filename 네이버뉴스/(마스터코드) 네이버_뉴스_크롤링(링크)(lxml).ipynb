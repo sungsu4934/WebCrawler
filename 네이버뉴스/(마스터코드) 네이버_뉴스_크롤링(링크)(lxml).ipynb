{
 "cells": [
  {
   "cell_type": "code",
   "execution_count": null,
   "metadata": {},
   "outputs": [],
   "source": [
    "import numpy as np\n",
    "import pandas as pd \n",
    "import time\n",
    "import requests\n",
    "import lxml\n",
    "from lxml.html import fromstring\n",
    "from fake_useragent import UserAgent\n",
    "\n",
    "ua = UserAgent()\n",
    "url = \"주소\"\n",
    "headers = {'User-Agent' : ua.random}"
   ]
  },
  {
   "cell_type": "markdown",
   "metadata": {},
   "source": [
    "# 수집하고자 하는 키워드"
   ]
  },
  {
   "cell_type": "code",
   "execution_count": null,
   "metadata": {},
   "outputs": [],
   "source": [
    "KEYWORDS = ['삼성', 'LG'] # 검색하고자 하는 키워드를 입력합니다."
   ]
  },
  {
   "cell_type": "markdown",
   "metadata": {},
   "source": [
    "# 정보수집"
   ]
  },
  {
   "cell_type": "code",
   "execution_count": null,
   "metadata": {},
   "outputs": [],
   "source": [
    "start = time.time()\n",
    "num_list = [i*10 + 1 for i in range(20)] # 20페이지까지만 수집합니다.\n",
    "url = 'https://search.naver.com/search.naver?where=news&sm=tab_pge&query={}&sort=0&photo=0&field=0&pd=0&ds=&de=&cluster_rank=27&mynews=0&office_type=0&office_section_code=0&news_office_checked=&nso=so:r,p:all,a:all&start={}'\n",
    "df = pd.DataFrame(columns=['url', '검색키워드'])\n",
    "url_list = []\n",
    "keyword_list = []\n",
    "\n",
    "    \n",
    "# 키워드 입력\n",
    "for i, keyword in enumerate(KEYWORDS):\n",
    "    print(f'=== {i+1}번째 {keyword} 시작합니다 === {round(time.time()-start)}초 ===')\n",
    "\n",
    "    # page 넘기기\n",
    "    for page in num_list:\n",
    "        url_2 = url.format(keyword, page)\n",
    "        text = requests.get(url_2)\n",
    "        html_text = text.text\n",
    "        doc  = fromstring(html_text)\n",
    "        element = doc.xpath('//div/div/div[1]/div[2]/a[2]')\n",
    "\n",
    "        # page가 더 증가할 것이 없으면 stop\n",
    "        for idx in range(len(element)):\n",
    "            final_url = element[idx].get('href')\n",
    "            url_list.append(final_url)\n",
    "            keyword_list.append(keyword)\n",
    "            \n",
    "\n",
    "        if page == 1:\n",
    "            keep = final_url\n",
    "\n",
    "        elif len(element) == 0:\n",
    "            pass\n",
    "\n",
    "        else:\n",
    "            if keep == final_url:\n",
    "                print(page,'stop')\n",
    "                break\n",
    "\n",
    "        keep = final_url\n",
    "\n",
    "df = pd.DataFrame({'url':url_list, '검색키워드':keyword_list})"
   ]
  }
 ],
 "metadata": {
  "kernelspec": {
   "display_name": "Python 3",
   "language": "python",
   "name": "python3"
  },
  "language_info": {
   "codemirror_mode": {
    "name": "ipython",
    "version": 3
   },
   "file_extension": ".py",
   "mimetype": "text/x-python",
   "name": "python",
   "nbconvert_exporter": "python",
   "pygments_lexer": "ipython3",
   "version": "3.8.5"
  }
 },
 "nbformat": 4,
 "nbformat_minor": 4
}
