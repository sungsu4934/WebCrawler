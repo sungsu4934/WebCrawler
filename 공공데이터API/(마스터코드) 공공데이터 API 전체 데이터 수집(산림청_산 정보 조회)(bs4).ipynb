{
 "cells": [
  {
   "cell_type": "code",
   "execution_count": null,
   "metadata": {},
   "outputs": [],
   "source": [
    "import pandas as pd\n",
    "import bs4\n",
    "import requests"
   ]
  },
  {
   "cell_type": "code",
   "execution_count": null,
   "metadata": {},
   "outputs": [],
   "source": [
    "API_KEY = 'YOUR_API_KEY'\n",
    "REGION_CODES = ['%02d' % num for num in range(1,17)]"
   ]
  },
  {
   "cell_type": "code",
   "execution_count": null,
   "metadata": {
    "scrolled": true
   },
   "outputs": [],
   "source": [
    "df = pd.DataFrame()\n",
    "\n",
    "for REGION_CODE in REGION_CODES:\n",
    "    \n",
    "    PAGE = 1\n",
    "    \n",
    "    while True:\n",
    "        \n",
    "        # API 호출\n",
    "        API = f'http://openapi.forest.go.kr/openapi/service/trailInfoService/getforeststoryservice?mntnInfoAraCd={REGION_CODE}&pageNo={PAGE}&serviceKey={API_KEY}'\n",
    "        response = requests.get(API).text\n",
    "        xmlobj = bs4.BeautifulSoup(response, 'lxml-xml')\n",
    "        \n",
    "        # ITEM 별로 파싱\n",
    "        rows = xmlobj.findAll('item')\n",
    "        \n",
    "        if len(rows) == 0:\n",
    "            print(f'== {PAGE}페이지에는 데이터가 존재하지 않습니다. 지역을 변경합니다. ==')\n",
    "            break\n",
    "        \n",
    "        # 페이지별로 ITEM 수집\n",
    "        rowList = []\n",
    "        column_nameList = []\n",
    "        valueList = []\n",
    "        \n",
    "        # Value 크롤링\n",
    "        for i in range(0, len(rows)):\n",
    "            columns = rows[i].find_all()\n",
    "\n",
    "            for j in range(0, len(columns)):\n",
    "                \n",
    "                # 처음에 Column명 지정을 위함!\n",
    "                if i == 0:\n",
    "                    column_nameList.append(columns[j].name)\n",
    "                \n",
    "                eachColumn = columns[j].text\n",
    "                valueList.append(eachColumn)\n",
    "                \n",
    "            rowList.append(valueList)\n",
    "            valueList = []    \n",
    "        \n",
    "        # 데이터프레임에 추가\n",
    "        tmp = pd.DataFrame(rowList, columns=column_nameList)\n",
    "        df = df.append(tmp, ignore_index=True)\n",
    "        \n",
    "        print(f'== {REGION_CODE}지역 {PAGE}페이지 완료 ==')\n",
    "        PAGE += 1\n",
    "        \n",
    "print('========== 크롤링 완료!! ==========')"
   ]
  },
  {
   "cell_type": "code",
   "execution_count": null,
   "metadata": {},
   "outputs": [],
   "source": [
    "df = df.drop_duplicates().reset_index(drop=True)\n",
    "df"
   ]
  },
  {
   "cell_type": "code",
   "execution_count": null,
   "metadata": {},
   "outputs": [],
   "source": [
    "df.to_excel('../output/산정보_API(산림청_산 정보 조회).xlsx', index=False)"
   ]
  }
 ],
 "metadata": {
  "kernelspec": {
   "display_name": "Python 3",
   "language": "python",
   "name": "python3"
  },
  "language_info": {
   "codemirror_mode": {
    "name": "ipython",
    "version": 3
   },
   "file_extension": ".py",
   "mimetype": "text/x-python",
   "name": "python",
   "nbconvert_exporter": "python",
   "pygments_lexer": "ipython3",
   "version": "3.8.5"
  }
 },
 "nbformat": 4,
 "nbformat_minor": 4
}
