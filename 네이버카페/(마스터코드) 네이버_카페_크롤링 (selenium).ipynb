{
 "cells": [
  {
   "cell_type": "code",
   "execution_count": null,
   "metadata": {},
   "outputs": [],
   "source": [
    "import numpy as np\n",
    "import pandas as pd \n",
    "import time\n",
    "import requests\n",
    "from fake_useragent import UserAgent\n",
    "\n",
    "from selenium import webdriver\n",
    "from selenium.webdriver.chrome.options import Options\n",
    "\n",
    "\n",
    "ua = UserAgent()\n",
    "url = \"주소\"\n",
    "headers = {'User-Agent' : ua.random}\n",
    "\n",
    "options = webdriver.ChromeOptions()\n",
    "options.add_argument(\"--start-maximized\")\n",
    "options.add_argument(\"user-agent=Mozilla/5.0 (Macintosh; Intel Mac OS X 10_12_6) AppleWebKit/537.36 (KHTML, like Gecko) Chrome/61.0.3163.100 Safari/537.36\")"
   ]
  },
  {
   "cell_type": "markdown",
   "metadata": {},
   "source": [
    "# 검색하고자 하는 단어 입력"
   ]
  },
  {
   "cell_type": "code",
   "execution_count": null,
   "metadata": {},
   "outputs": [],
   "source": [
    "KEYWORD = '유럽여행'"
   ]
  },
  {
   "cell_type": "markdown",
   "metadata": {},
   "source": [
    "# url수집\n",
    " - 정확도순, 거래글 제외 필터링 시 100페이지이상 넘어가면 동일결과가 나오는 현상 발견"
   ]
  },
  {
   "cell_type": "code",
   "execution_count": null,
   "metadata": {
    "scrolled": true
   },
   "outputs": [],
   "source": [
    "df = pd.DataFrame(columns=['url'])\n",
    "PAGE = 1\n",
    "t1 = time.time()\n",
    "\n",
    "driver = webdriver.Chrome('chromedriver_91.exe', options=options)\n",
    "\n",
    "while True:    \n",
    "    \n",
    "    # 링크 제시\n",
    "    base_url = f'https://cafe.naver.com/ca-fe/home/search/articles?q={KEYWORD}&p={PAGE}&em=1'\n",
    "    driver.get(base_url)\n",
    "    time.sleep(1)\n",
    "    \n",
    "    # 요소 추가\n",
    "    elements = driver.find_elements_by_xpath('//*[@id=\"app\"]/div/div[2]/div/div[1]/div[3]/div/div[3]/ul/li/div/div/div/a')\n",
    "    urls = [element.get_attribute('href') for element in elements]\n",
    "    tmp = pd.DataFrame({'url':urls})\n",
    "    df = df.append(tmp, ignore_index=True)\n",
    "    \n",
    "    # add page & log\n",
    "    print(f'{PAGE} 페이지 완료!! == 경과시간: {round(time.time() - t1)}초')\n",
    "    \n",
    "    # stopping condition (test용)\n",
    "    if PAGE == 100:\n",
    "        print('Early Stopping')\n",
    "        driver.close()\n",
    "        break\n",
    "    \n",
    "    \n",
    "    # add page\n",
    "    PAGE += 1"
   ]
  },
  {
   "cell_type": "markdown",
   "metadata": {},
   "source": [
    "# 세부정보 수집"
   ]
  },
  {
   "cell_type": "code",
   "execution_count": null,
   "metadata": {
    "scrolled": true
   },
   "outputs": [],
   "source": [
    "df_final = pd.DataFrame(columns = ['제목', '작성자', '일자', '댓글수', '좋아요개수', '조회수', '본문', 'url'])\n",
    "driver = webdriver.Chrome('chromedriver_91.exe', options=options)\n",
    "t2 = time.time()\n",
    "\n",
    "for idx in range(df.shape[0]):\n",
    "    \n",
    "    # url 접근\n",
    "    base_url = df.loc[idx, 'url']\n",
    "    driver.get(base_url)    \n",
    "    time.sleep(1)\n",
    "    \n",
    "    # url 우회를 위한 trick\n",
    "    change_tab = driver.window_handles[-1]\n",
    "    driver.switch_to.window(change_tab)\n",
    "    driver.switch_to.frame('cafe_main')    \n",
    "    \n",
    "    # 정보수집\n",
    "    headline = driver.find_elements_by_xpath('//*[@id=\"app\"]/div/div/div[2]/div[1]/div[1]/div/h3')[0].text\n",
    "    writer = driver.find_elements_by_xpath('/html/body/div/div/div/div[2]/div[1]/div[2]/div/div[1]/div/a')[0].text\n",
    "    date = driver.find_elements_by_xpath('//*[@id=\"app\"]/div/div/div[2]/div[1]/div[2]/div/div[2]/span[1]')[0].text\n",
    "    content = ' '.join([temp.text for temp in driver.find_elements_by_xpath('/html/body/div/div/div/div[2]/div[2]/div[1]/div/div[1]/div/div/div/div/div/div/p')])\n",
    "    \n",
    "    try:\n",
    "        comment_count = driver.find_elements_by_xpath('/html/body/div/div/div/div[2]/div[1]/div[3]/a[1]/strong')[0].text\n",
    "    except:\n",
    "        comment_count = 0\n",
    "        \n",
    "    try:\n",
    "        emotion_count = driver.find_elements_by_xpath('//*[@id=\"app\"]/div/div/div[2]/div[2]/div[3]/div[1]/div/div/a/em[2]')[0].text\n",
    "    except:\n",
    "        emotion_count = 0\n",
    "        \n",
    "    try:\n",
    "        view_count = driver.find_elements_by_xpath('/html/body/div/div/div/div[2]/div[1]/div[2]/div/div[2]/span[2]')[0].text.split(' ')[-1]\n",
    "    except:\n",
    "        view_count = 0\n",
    "    \n",
    "    # df_final에 추가\n",
    "    tmp = pd.DataFrame({'제목':[headline],\n",
    "                        '작성자':[writer],\n",
    "                        '일자':[date],\n",
    "                        '댓글수':[comment_count],\n",
    "                        '좋아요개수':[emotion_count],\n",
    "                        '조회수':[view_count],\n",
    "                        '본문':[content],\n",
    "                       'url':[base_url]})\n",
    "    \n",
    "    df_final = df_final.append(tmp, ignore_index=True)\n",
    "    \n",
    "    # log\n",
    "    if (idx+1) % 10 == 0:\n",
    "        print(f'{idx+1}개 완료!! == 경과시간: {round(time.time()-t2)}초')"
   ]
  },
  {
   "cell_type": "code",
   "execution_count": null,
   "metadata": {},
   "outputs": [],
   "source": [
    "df_final"
   ]
  }
 ],
 "metadata": {
  "kernelspec": {
   "display_name": "Python 3",
   "language": "python",
   "name": "python3"
  },
  "language_info": {
   "codemirror_mode": {
    "name": "ipython",
    "version": 3
   },
   "file_extension": ".py",
   "mimetype": "text/x-python",
   "name": "python",
   "nbconvert_exporter": "python",
   "pygments_lexer": "ipython3",
   "version": "3.8.5"
  }
 },
 "nbformat": 4,
 "nbformat_minor": 4
}
