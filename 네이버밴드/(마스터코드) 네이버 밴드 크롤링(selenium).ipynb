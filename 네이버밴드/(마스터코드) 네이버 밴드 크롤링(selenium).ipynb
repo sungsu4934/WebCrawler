{
 "cells": [
  {
   "cell_type": "code",
   "execution_count": null,
   "metadata": {},
   "outputs": [],
   "source": [
    "from selenium import webdriver\n",
    "from selenium.webdriver.chrome.options import Options\n",
    "import subprocess\n",
    "import shutil\n",
    "import time\n",
    "import pandas as pd\n",
    "import datetime\n",
    "\n",
    "import requests\n",
    "import lxml\n",
    "from lxml.html import fromstring\n",
    "\n",
    "from selenium.webdriver.common.action_chains import ActionChains\n",
    "from selenium.webdriver.common.keys import Keys\n",
    "import pyperclip\n",
    "\n",
    "# headers\n",
    "userAgent = 'Mozilla/5.0 (Windows NT 10.0; Win64; x64) AppleWebKit/537.36 (KHTML, like Gecko) Chrome/90.0.4430.212 Safari/537.36'\n",
    "headers = {'User-Agent' : userAgent}\n",
    "\n",
    "# option \n",
    "option = Options()\n",
    "option.add_experimental_option(\"debuggerAddress\", \"127.0.0.1:9222\")"
   ]
  },
  {
   "cell_type": "code",
   "execution_count": null,
   "metadata": {},
   "outputs": [],
   "source": [
    "# 로그인을 위한 함수 구현\n",
    "def clipboard_input(user_xpath, user_input):\n",
    "    temp_user_input = pyperclip.paste()  # 사용자 클립보드를 따로 저장\n",
    "\n",
    "    pyperclip.copy(user_input)\n",
    "    driver.find_element_by_xpath(user_xpath).click()\n",
    "    ActionChains(driver).key_down(Keys.CONTROL).send_keys('v').key_up(Keys.CONTROL).perform()\n",
    "\n",
    "    pyperclip.copy(temp_user_input)  # 사용자 클립보드에 저장 된 내용을 다시 가져 옴\n",
    "    time.sleep(1)"
   ]
  },
  {
   "cell_type": "markdown",
   "metadata": {},
   "source": [
    "# 파라미터\n"
   ]
  },
  {
   "cell_type": "code",
   "execution_count": null,
   "metadata": {},
   "outputs": [],
   "source": [
    "ID = 'YOUR_ID'\n",
    "PASSWORD = 'YOUR_PW'"
   ]
  },
  {
   "cell_type": "markdown",
   "metadata": {},
   "source": [
    "# 밴드 사이트에 접근"
   ]
  },
  {
   "cell_type": "code",
   "execution_count": null,
   "metadata": {},
   "outputs": [],
   "source": [
    "# chrome.exe로 접근\n",
    "subprocess.Popen(r'C:\\Program Files\\Google\\Chrome\\Application\\chrome.exe --remote-debugging-port=9222 --user-data-dir=\"C:\\chrometemp\"') # 디버거 크롬 구동\n",
    "\n",
    "# url 접근\n",
    "driver = webdriver.Chrome('90/chromedriver.exe', options=option)\n",
    "url = 'https://band.us/'\n",
    "driver.get(url)\n",
    "time.sleep(2)\n",
    "\n",
    "# 로그인 클릭\n",
    "driver.find_element_by_xpath('//*[@id=\"header\"]/div/div/a[2]').click()\n",
    "time.sleep(2)\n",
    "\n",
    "# 네이버로 로그인 클릭\n",
    "driver.find_element_by_xpath('//*[@id=\"login_list\"]/li[3]/a/span').click()\n",
    "\n",
    "# ID, PW 넣고 로그인\n",
    "login = {\n",
    "    \"id\" : ID,\n",
    "    \"pw\" : PASSWORD\n",
    "}\n",
    "\n",
    "clipboard_input('//*[@id=\"id\"]', login.get(\"id\"))\n",
    "clipboard_input('//*[@id=\"pw\"]', login.get(\"pw\"))\n",
    "\n",
    "# 로그인 상태 유지 클릭\n",
    "driver.find_element_by_xpath('//*[@id=\"label_login_chk\"]').click()\n",
    "\n",
    "# 로그인하기 클릭\n",
    "driver.find_element_by_xpath('//*[@id=\"log.login\"]').click()\n",
    "time.sleep(2)\n",
    "\n",
    "# 특정 밴드 클릭\n",
    "driver.find_element_by_xpath('//*[@id=\"content\"]/div/section/div[2]/div/div/ul/li[2]/div/div/a/div[2]/p').click()\n",
    "time.sleep(2)\n",
    "\n",
    "# 보기방식 변경\n",
    "driver.find_element_by_xpath('//*[@id=\"content\"]/section/div[13]/div[1]/div/button[2]').click()\n",
    "time.sleep(2)"
   ]
  },
  {
   "cell_type": "markdown",
   "metadata": {},
   "source": [
    "# 정보 크롤링\n",
    "## 데이터프레임 초기화 주의!!"
   ]
  },
  {
   "cell_type": "code",
   "execution_count": null,
   "metadata": {
    "scrolled": true
   },
   "outputs": [],
   "source": [
    "# 정보수집\n",
    "num = 1\n",
    "df = pd.DataFrame(columns = ['작성자', '일자', '좋아요개수', '댓글개수', '조회수', '내용'])\n",
    "t1 = time.time()\n",
    "\n",
    "while True:\n",
    "    \n",
    "    # 정보수집 \n",
    "    \n",
    "    \n",
    "    ## 작성자\n",
    "    try:\n",
    "        writer = driver.find_element_by_xpath(f'//*[@id=\"content\"]/section/div[14]/div[2]/div/div[{num}]/div/div[2]/div/span/strong').text\n",
    "    \n",
    "    ### Stopping Condition: 작성자가 수집이 안되었을때 이는 게시글이 없는 것으로 판단\n",
    "    except:\n",
    "        \n",
    "        try:\n",
    "            print('== 1차오류 발생 == 스크롤을 추가로 내려봅니다.')\n",
    "            driver.execute_script(\"window.scrollTo(0, document.body.scrollHeight);\")\n",
    "            writer = driver.find_element_by_xpath(f'//*[@id=\"content\"]/section/div[14]/div[2]/div/div[{num}]/div/div[2]/div/span/strong').text\n",
    "            \n",
    "        except:\n",
    "            print(f'정보가 모두 수집되었거나 오류가 발생하였습니다. == 마지막 게시글의 작성일자: {date}')\n",
    "            break\n",
    "        \n",
    "        \n",
    "    ## 일자   \n",
    "    date = driver.find_element_by_xpath(f'//*[@id=\"content\"]/section/div[14]/div[2]/div/div[{num}]/div/div[2]/div/div/a/time').text\n",
    "    \n",
    "    if ('시간' in date) | ('분' in date): ### 20시간 전 등의 데이터에 대해서는 오늘 날짜를 기입\n",
    "        today = datetime.datetime.today()\n",
    "        date = '%s년 %s월 %s일' % (\"{:d}\".format(today.year), \"{:d}\".format(today.month), \"{:d}\".format(today.day))\n",
    "\n",
    "        \n",
    "    ## 좋아요 개수\n",
    "    like_count = driver.find_element_by_xpath(f'//*[@id=\"content\"]/section/div[14]/div[2]/div/div[{num}]/div/div[4]/div[1]/div[1]/button/div/span[2]').text\n",
    "    \n",
    "    \n",
    "    ## 댓글 개수\n",
    "    comment_count = driver.find_element_by_xpath(f'//*[@id=\"content\"]/section/div[14]/div[2]/div/div[{num}]/div/div[4]/div[1]/div[2]/a/span[2]').text\n",
    "    \n",
    "    \n",
    "    ## 조회수 개수\n",
    "    try:\n",
    "        view_count = driver.find_element_by_xpath(f'//*[@id=\"content\"]/section/div[14]/div[2]/div/div[{num}]/div/div[4]/div[2]/span/span[2]').text\n",
    "    \n",
    "    except: ### 조회수가 없으면 해당 element가 활성화 안되어 오류가 발생\n",
    "        view_count = 0\n",
    "        \n",
    "        \n",
    "    ## 내용\n",
    "    content = driver.find_element_by_xpath(f'//*[@id=\"content\"]/section/div[14]/div[2]/div/div[{num}]/div/div[3]/div/div/div[1]/p').text\n",
    "\n",
    "    \n",
    "    \n",
    "    \n",
    "    # 데이터프레임에 적재\n",
    "    tmp = pd.DataFrame({'작성자':[writer],\n",
    "                     '일자':[date],\n",
    "                     '좋아요개수':[like_count],\n",
    "                     '댓글개수':[comment_count],\n",
    "                     '조회수':[view_count],\n",
    "                     '내용':[content]})\n",
    "\n",
    "    df = df.append(tmp, ignore_index = True)\n",
    "    \n",
    "    # scroll down(주기: 5)\n",
    "    if num % 5 == 0:\n",
    "        print(f'== {num}개 게시글 수집 완료 == Scroll Down!! == 경과시간: {round(time.time() - t1)}초')\n",
    "        driver.execute_script(\"window.scrollTo(0, document.body.scrollHeight);\")\n",
    "        time.sleep(1)\n",
    "        \n",
    "    \n",
    "    # num 추가\n",
    "    num += 1"
   ]
  },
  {
   "cell_type": "code",
   "execution_count": null,
   "metadata": {},
   "outputs": [],
   "source": [
    "df.to_excel('../데이터/네이버_밴드_크롤링.xlsx', index=False)"
   ]
  }
 ],
 "metadata": {
  "kernelspec": {
   "display_name": "Python 3",
   "language": "python",
   "name": "python3"
  },
  "language_info": {
   "codemirror_mode": {
    "name": "ipython",
    "version": 3
   },
   "file_extension": ".py",
   "mimetype": "text/x-python",
   "name": "python",
   "nbconvert_exporter": "python",
   "pygments_lexer": "ipython3",
   "version": "3.8.5"
  }
 },
 "nbformat": 4,
 "nbformat_minor": 4
}
