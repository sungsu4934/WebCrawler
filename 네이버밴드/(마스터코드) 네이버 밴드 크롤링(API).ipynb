{
 "cells": [
  {
   "cell_type": "code",
   "execution_count": null,
   "metadata": {},
   "outputs": [],
   "source": [
    "import datetime\n",
    "import requests\n",
    "import json\n",
    "import pandas as pd\n",
    "import time\n",
    "\n",
    "LOCALE = 'ko-KR'"
   ]
  },
  {
   "cell_type": "markdown",
   "metadata": {},
   "source": [
    "# Band Key 찾기"
   ]
  },
  {
   "cell_type": "markdown",
   "metadata": {},
   "source": [
    "#### 수정해야할 파라미터"
   ]
  },
  {
   "cell_type": "code",
   "execution_count": null,
   "metadata": {},
   "outputs": [],
   "source": [
    "###################### 수정해야할 파라미터 ######################\n",
    "ACCESS_TOKEN = 'YOUR_TOKEN'\n",
    "HEADERS = {'X-Naver-Client-Id':'YOUR_ID', 'X-naver-Client-secret':'YOUR_PW'} # Your id and pw\n",
    "BAND_NAME = 'BANDNAME What you want crawl'\n",
    "NOW_VERSION = 2\n",
    "###################### 수정해야할 파라미터 ######################"
   ]
  },
  {
   "cell_type": "code",
   "execution_count": null,
   "metadata": {
    "scrolled": true
   },
   "outputs": [],
   "source": [
    "# 내가 가입된 밴드명 확인 및 밴드 key 확인\n",
    "url = f'https://openapi.band.us/v2.1/bands.json?access_token={ACCESS_TOKEN}'\n",
    "r = requests.get(url)\n",
    "r_json = json.loads(r.text)\n",
    "band_df = pd.DataFrame(r_json['result_data']['bands'])\n",
    "band_df"
   ]
  },
  {
   "cell_type": "code",
   "execution_count": null,
   "metadata": {},
   "outputs": [],
   "source": [
    "# 밴드키 받아오기\n",
    "BAND_KEY = band_df.loc[band_df['name'] == BAND_NAME, 'band_key'].values[0]\n",
    "BAND_KEY"
   ]
  },
  {
   "cell_type": "markdown",
   "metadata": {},
   "source": [
    "# 정보 크롤링 "
   ]
  },
  {
   "cell_type": "markdown",
   "metadata": {},
   "source": [
    "### 처음 수집하는 것인지, 기존에 수집하던 것을 이어서 하는 것인지에 따라 셀을 다른 것을 선택합니다.\n",
    " - 만약 처음 수집한다면, 첫번째 셀을 실행, 두번째 셀은 실행하지 않습니다.\n",
    " - 만약 두번째로 수집한다면, 첫번째 셀은 실행하지 않고 두번째 셀만 실행합니다."
   ]
  },
  {
   "cell_type": "code",
   "execution_count": null,
   "metadata": {},
   "outputs": [],
   "source": [
    "################ 처음시작 시 ################\n",
    "call_count = 1\n",
    "NOW_VERSION = 1\n",
    "API_FILE_SAVE_PATH = f'../output/{BAND_NAME}_API_ver{NOW_VERSION}(after값).xlsx'\n",
    "DATAFRAME_SAVE_PATH = f'../output/{BAND_NAME}_API_ver{NOW_VERSION}.xlsx'\n",
    "\n",
    "print(f'call_count: {call_count}')\n",
    "################ 처음시작 시 ################"
   ]
  },
  {
   "cell_type": "code",
   "execution_count": null,
   "metadata": {},
   "outputs": [],
   "source": [
    "################ 수동작동시 ####################### --> 처음 선택 시 해당 셀은 선택하지 않습니다!\n",
    "API_FILE_PATH = f'../output/{BAND_NAME}_API_ver{NOW_VERSION}(after값).xlsx'\n",
    "API_FILE_SAVE_PATH = f'../output/{BAND_NAME}_API_ver{NOW_VERSION+1}(after값).xlsx'\n",
    "DATAFRAME_SAVE_PATH = f'../output/{BAND_NAME}_API_ver{NOW_VERSION+1}.xlsx'\n",
    "after_df = pd.read_excel(API_FILE_PATH)\n",
    "\n",
    "call_count = (after_df.shape[0]) * NOW_VERSION +1 # 처음시작 시 call_count는 1을 넣어라.\n",
    "after = after_df['after값'].tolist()[-1]\n",
    "\n",
    "print(f'call_count: {call_count}')\n",
    "print(f'after: {after}')\n",
    "################ 수동작동시 #######################"
   ]
  },
  {
   "cell_type": "code",
   "execution_count": null,
   "metadata": {
    "scrolled": true
   },
   "outputs": [],
   "source": [
    "df = pd.DataFrame()\n",
    "t1 = time.time()\n",
    "after_dict = {}\n",
    "\n",
    "while True:\n",
    "    \n",
    "    # url 불러오기\n",
    "    if call_count == 1:\n",
    "        url = f'https://openapi.band.us/v2/band/posts.json?access_token={ACCESS_TOKEN}&band_key={BAND_KEY}&locale={LOCALE}'\n",
    "        r = requests.get(url, headers=HEADERS, timeout = 10)\n",
    "        r_json = json.loads(r.text)\n",
    "        \n",
    "    else:\n",
    "        url = f'https://openapi.band.us/v2/band/posts.json?access_token={ACCESS_TOKEN}&band_key={BAND_KEY}&locale={LOCALE}&after={after}'\n",
    "        r = requests.get(url, headers=HEADERS, timeout = 10)\n",
    "        r_json = json.loads(r.text)\n",
    "        \n",
    "    # 사용횟수 초과 여부 확인\n",
    "    if r_json['result_code'] == 1002:\n",
    "        print('오늘 사용횟수를 초과하였습니다.')\n",
    "        break\n",
    "        \n",
    "    # after 파라미터 정의 및 stopping조건 정의\n",
    "    if r_json['result_data']['paging']['next_params'] == None:\n",
    "        print('다음 after 파라미터가 존재하지 않습니다. == 종료')\n",
    "        break\n",
    "    \n",
    "    after = r_json['result_data']['paging']['next_params']['after']\n",
    "    after_dict[call_count*20] = after\n",
    "        \n",
    "    # 데이터 수집\n",
    "    writers = [r_json['result_data']['items'][idx]['author']['name'] for idx in range(20)]\n",
    "    contents = [r_json['result_data']['items'][idx]['content'] for idx in range(20)]\n",
    "    dates = [datetime.datetime.fromtimestamp(round(r_json['result_data']['items'][idx]['created_at']/1000)).strftime('%Y-%m-%d %H:%M:%S') for idx in range(20)]\n",
    "    comment_counts = [r_json['result_data']['items'][idx]['comment_count'] for idx in range(20)]\n",
    "    emotion_counts = [r_json['result_data']['items'][idx]['emotion_count'] for idx in range(20)]\n",
    "    \n",
    "    # 데이터 프레임에 추가\n",
    "    tmp = pd.DataFrame({'작성자':writers,\n",
    "                         '일자':dates,\n",
    "                         '댓글개수':comment_counts,\n",
    "                         '감정표현개수':emotion_counts,\n",
    "                         '내용':contents})\n",
    "    \n",
    "    df = df.append(tmp, ignore_index=True)    \n",
    "    \n",
    "    # log\n",
    "    if df.shape[0] % 100 == 0:\n",
    "        print(f'{df.shape[0]}개 데이터 수집 완료 == 경과시간: {round(time.time()-t1)}초')\n",
    "        time.sleep(1)\n",
    "    \n",
    "    # log2\n",
    "    if df.shape[0] % 2000 == 0:\n",
    "        print(f'{df.shape[0]}개 데이터 수집 완료 == 10초 휴식!!')\n",
    "        time.sleep(10)\n",
    "    \n",
    "    # call_count += 1\n",
    "    call_count += 1 "
   ]
  },
  {
   "cell_type": "markdown",
   "metadata": {},
   "source": [
    "# 저장"
   ]
  },
  {
   "cell_type": "code",
   "execution_count": null,
   "metadata": {},
   "outputs": [],
   "source": [
    "df.to_excel(DATAFRAME_SAVE_PATH, index=False)\n",
    "pd.DataFrame(after_dict.items(), columns = ['마지막개수','after값']).to_excel(API_FILE_SAVE_PATH, index=False)"
   ]
  }
 ],
 "metadata": {
  "kernelspec": {
   "display_name": "Python 3",
   "language": "python",
   "name": "python3"
  },
  "language_info": {
   "codemirror_mode": {
    "name": "ipython",
    "version": 3
   },
   "file_extension": ".py",
   "mimetype": "text/x-python",
   "name": "python",
   "nbconvert_exporter": "python",
   "pygments_lexer": "ipython3",
   "version": "3.8.5"
  }
 },
 "nbformat": 4,
 "nbformat_minor": 4
}
