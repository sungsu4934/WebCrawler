{
 "cells": [
  {
   "cell_type": "markdown",
   "metadata": {},
   "source": [
    "# Load package & Data"
   ]
  },
  {
   "cell_type": "code",
   "execution_count": null,
   "metadata": {},
   "outputs": [],
   "source": [
    "import pandas as pd\n",
    "import requests\n",
    "import time\n",
    "import warnings\n",
    "import urllib"
   ]
  },
  {
   "cell_type": "code",
   "execution_count": null,
   "metadata": {},
   "outputs": [],
   "source": [
    "df_place = pd.read_excel('세종시_위도경도.xlsx')\n",
    "df_place"
   ]
  },
  {
   "cell_type": "markdown",
   "metadata": {},
   "source": [
    "# 크롤링"
   ]
  },
  {
   "cell_type": "code",
   "execution_count": null,
   "metadata": {
    "scrolled": true
   },
   "outputs": [],
   "source": [
    "cnt = 1\n",
    "t1 = time.time()\n",
    "\n",
    "for idx in df_place.index:\n",
    "\n",
    "    lng, lat = tuple(df_place.loc[idx, ['lng', 'lat']].values)\n",
    "    url = f'https://dapi.kakao.com/v2/local/geo/coord2address.json?x={lng}&y={lat}&input_coord=WGS84'\n",
    "    headers = {\n",
    "        \"Authorization\": \"KakaoAK YOUR_REST_API_KEY\"\n",
    "    }\n",
    "    places = requests.get(url, headers = headers).json()\n",
    "\n",
    "    try:\n",
    "        road_address = places['documents'][0]['road_address']['address_name']\n",
    "    except:\n",
    "        road_address = ''\n",
    "\n",
    "    try:\n",
    "        jibun_address = places['documents'][0]['address']['address_name']\n",
    "    except:\n",
    "        jibun_address = ''\n",
    "\n",
    "    df_place.loc[idx, '도로명주소'] = road_address\n",
    "    df_place.loc[idx, '지번주소'] = jibun_address\n",
    "    cnt += 1\n",
    "\n",
    "    t2 = time.time()\n",
    "    elapsed_time = round(t2 - t1)\n",
    "    print(f'{cnt}개 완료 === 경과시간: {elapsed_time}초')"
   ]
  }
 ],
 "metadata": {
  "kernelspec": {
   "display_name": "Python 3",
   "language": "python",
   "name": "python3"
  },
  "language_info": {
   "codemirror_mode": {
    "name": "ipython",
    "version": 3
   },
   "file_extension": ".py",
   "mimetype": "text/x-python",
   "name": "python",
   "nbconvert_exporter": "python",
   "pygments_lexer": "ipython3",
   "version": "3.8.5"
  }
 },
 "nbformat": 4,
 "nbformat_minor": 4
}
