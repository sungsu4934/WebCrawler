{
 "cells": [
  {
   "cell_type": "code",
   "execution_count": null,
   "metadata": {},
   "outputs": [],
   "source": [
    "import requests\n",
    "from lxml.html import fromstring\n",
    "import pandas as pd"
   ]
  },
  {
   "cell_type": "markdown",
   "metadata": {},
   "source": [
    "# Change Parameter"
   ]
  },
  {
   "cell_type": "code",
   "execution_count": null,
   "metadata": {},
   "outputs": [],
   "source": [
    "KEYWORD = '보이스피싱'\n",
    "PAGE = 10"
   ]
  },
  {
   "cell_type": "markdown",
   "metadata": {},
   "source": [
    "# 크롤링"
   ]
  },
  {
   "cell_type": "code",
   "execution_count": null,
   "metadata": {
    "scrolled": true
   },
   "outputs": [],
   "source": [
    "url_list = []\n",
    "\n",
    "for i in range(1,PAGE+1):   ### 페이지 수집\n",
    "    \n",
    "    url = 'https://kin.naver.com/search/list.nhn?query={}&page={}'.format(KEYWORD, i)\n",
    "    res = requests.get(url)\n",
    "    parser = fromstring(res.text)\n",
    "    \n",
    "    for block in parser.xpath('//*[@id=\"s_content\"]/div[3]/ul/li/dl/dt/a'):\n",
    "        a = block.get('href')\n",
    "        url_list.append(a)\n",
    "    \n",
    "\n",
    "url_list"
   ]
  },
  {
   "cell_type": "code",
   "execution_count": null,
   "metadata": {},
   "outputs": [],
   "source": [
    "titles = []\n",
    "texts = []\n",
    "cnt = 1\n",
    "print('======','전체 수집대상 :', len(url_list), '======')\n",
    "\n",
    "for url in url_list:\n",
    "    res = requests.get(url)\n",
    "    parser = fromstring(res.text)\n",
    "    \n",
    "    ### 제목수집\n",
    "    try:\n",
    "        title = parser.xpath('//*[@id=\"content\"]/div[1]/div/div[1]/div[2]/div/div/text()')\n",
    "        titles.append(title)\n",
    "    except:\n",
    "        title = '제목없음'\n",
    "        titles.append(title)\n",
    "    \n",
    "    ### 내용수집\n",
    "    try:\n",
    "        text = parser.xpath('//*[@id=\"content\"]/div[1]/div/div[1]/div[3]')[0].text_content()\n",
    "        texts.append(text)\n",
    "    except:\n",
    "        text = '내용없음'\n",
    "        texts.append(text)\n",
    "    \n",
    "    if cnt % 10 == 0:\n",
    "        print('====', cnt, '번째 완료', '====')\n",
    "    \n",
    "    cnt += 1\n",
    "    \n",
    "naver_df = pd.DataFrame({'제목': titles, '내용': texts})\n",
    "naver_df"
   ]
  }
 ],
 "metadata": {
  "kernelspec": {
   "display_name": "Python 3",
   "language": "python",
   "name": "python3"
  },
  "language_info": {
   "codemirror_mode": {
    "name": "ipython",
    "version": 3
   },
   "file_extension": ".py",
   "mimetype": "text/x-python",
   "name": "python",
   "nbconvert_exporter": "python",
   "pygments_lexer": "ipython3",
   "version": "3.8.5"
  }
 },
 "nbformat": 4,
 "nbformat_minor": 4
}
