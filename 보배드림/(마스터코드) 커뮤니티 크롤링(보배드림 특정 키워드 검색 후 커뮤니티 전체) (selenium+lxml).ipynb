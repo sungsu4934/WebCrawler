{
 "cells": [
  {
   "cell_type": "code",
   "execution_count": null,
   "metadata": {},
   "outputs": [],
   "source": [
    "import numpy as np\n",
    "import pandas as pd \n",
    "import time\n",
    "import requests\n",
    "import lxml\n",
    "from lxml.html import fromstring\n",
    "from fake_useragent import UserAgent\n",
    "\n",
    "from bs4 import BeautifulSoup\n",
    "\n",
    "from selenium import webdriver\n",
    "from selenium.webdriver.common.keys import Keys\n",
    "from selenium.webdriver.common.action_chains import ActionChains\n",
    "from selenium.webdriver.chrome.options import Options\n",
    "from selenium.webdriver.support import expected_conditions as EC\n",
    "from selenium.webdriver.common.by import By\n",
    "from selenium.webdriver.support.ui import WebDriverWait\n",
    "\n",
    "ua = UserAgent()\n",
    "url = \"주소\"\n",
    "headers = {'User-Agent' : ua.random}\n",
    "\n",
    "options = webdriver.ChromeOptions()\n",
    "options.add_argument(\"--start-maximized\")\n",
    "options.add_argument(\"user-agent=Mozilla/5.0 (Macintosh; Intel Mac OS X 10_12_6) AppleWebKit/537.36 (KHTML, like Gecko) Chrome/61.0.3163.100 Safari/537.36\")"
   ]
  },
  {
   "cell_type": "markdown",
   "metadata": {},
   "source": [
    "# Change Parameter"
   ]
  },
  {
   "cell_type": "code",
   "execution_count": null,
   "metadata": {},
   "outputs": [],
   "source": [
    "######################## 검색 키워드 입력 ######################## 여기만 수정\n",
    "KEYWORD = ['드라이브스루', '자동차 와이퍼']"
   ]
  },
  {
   "cell_type": "markdown",
   "metadata": {},
   "source": [
    "# URL 크롤링"
   ]
  },
  {
   "cell_type": "code",
   "execution_count": null,
   "metadata": {
    "scrolled": true
   },
   "outputs": [],
   "source": [
    "# 데이터프레임 초기화\n",
    "df = pd.DataFrame(columns=['url'])\n",
    "cnt = 0\n",
    "Bool = True\n",
    "\n",
    "# url 접근\n",
    "driver = webdriver.Chrome('chromedriver_91.exe', chrome_options=options) # 크롬 드라이버 다운로드후 본인 경로로 줍니다.\n",
    "base_url = 'https://www.bobaedream.co.kr/search'\n",
    "driver.get(base_url)\n",
    "time.sleep(2)\n",
    "\n",
    "# 커뮤니티로 이동 - 일부러 time을 많이 주었습니다. 반복문을 도는 것도 아니며, 1번만 접근하면 되기에 안정적으로 시행하는게 중요하다고 판단하였습니다.\n",
    "driver.find_element_by_class_name('keyword').send_keys(KEYWORD) #검색어 입력\n",
    "driver.find_element_by_class_name('keyword').send_keys(Keys.ENTER)\n",
    "time.sleep(3)\n",
    "driver.find_elements_by_xpath('/html/body/div/div[3]/div[1]/ul/li[5]/a')[0].click()\n",
    "time.sleep(3)\n",
    "\n",
    "# 크롤링\n",
    "while Bool:\n",
    "\n",
    "    # 스크롤 내리기\n",
    "    last_element = driver.find_elements_by_xpath('/html/body/div/div[3]/div[2]/div/div[2]')[0]\n",
    "    driver.execute_script(\"arguments[0].scrollIntoView(true);\", last_element)\n",
    "\n",
    "    # 정보 수집 (pageid)\n",
    "    elements = driver.find_elements_by_class_name('search_Community')[0].find_elements_by_tag_name('li')\n",
    "    url_list = [element.find_elements_by_tag_name('a')[0].get_attribute('href') for element in elements]\n",
    "    df = pd.concat([df, pd.DataFrame(url_list, columns=['url'])])\n",
    "    page_num = int(driver.find_elements_by_xpath('/html/body/div/div[3]/div[2]/div/div[2]/strong')[0].text)\n",
    "    cnt += 1\n",
    "    print(f'{cnt}페이지 완료')\n",
    "    \n",
    "    # 다 됐으면 다음페이지 이동\n",
    "    try:\n",
    "        if page_num <= 5:\n",
    "            \n",
    "            if page_num % 5 == 1:\n",
    "                driver.find_elements_by_xpath('/html/body/div/div[3]/div[2]/div/div[2]/a[1]')[0].click()\n",
    "\n",
    "            elif page_num % 5 == 2:\n",
    "                driver.find_elements_by_xpath('/html/body/div/div[3]/div[2]/div/div[2]/a[3]')[0].click()\n",
    "\n",
    "            elif page_num % 5 == 3:\n",
    "                driver.find_elements_by_xpath('/html/body/div/div[3]/div[2]/div/div[2]/a[4]')[0].click()\n",
    "\n",
    "            elif page_num % 5 == 4:\n",
    "                driver.find_elements_by_xpath('/html/body/div/div[3]/div[2]/div/div[2]/a[5]')[0].click()\n",
    "\n",
    "            elif page_num % 5 == 0:\n",
    "                driver.find_elements_by_xpath('/html/body/div/div[3]/div[2]/div/div[2]/a[6]')[0].click()\n",
    "                \n",
    "        else:\n",
    "            if page_num % 5 == 1:\n",
    "                driver.find_elements_by_xpath('/html/body/div/div[3]/div[2]/div/div[2]/a[3]')[0].click()\n",
    "\n",
    "            elif page_num % 5 == 2:\n",
    "                driver.find_elements_by_xpath('/html/body/div/div[3]/div[2]/div/div[2]/a[4]')[0].click()\n",
    "\n",
    "            elif page_num % 5 == 3:\n",
    "                driver.find_elements_by_xpath('/html/body/div/div[3]/div[2]/div/div[2]/a[5]')[0].click()\n",
    "\n",
    "            elif page_num % 5 == 4:\n",
    "                driver.find_elements_by_xpath('/html/body/div/div[3]/div[2]/div/div[2]/a[6]')[0].click()\n",
    "\n",
    "            elif page_num % 5 == 0:\n",
    "                driver.find_elements_by_xpath('/html/body/div/div[3]/div[2]/div/div[2]/a[7]')[0].click()\n",
    "            \n",
    "        time.sleep(3)\n",
    "        \n",
    "        \n",
    "        \n",
    "    except:\n",
    "        Bool = False\n",
    "        print(f'{cnt}페이지에서 {cnt+1}로 넘어가는 버튼이 존재하지 않는가요? 그렇다면 수집이 완료되었습니다.')\n",
    "        \n",
    "df = df.reset_index(drop=True)"
   ]
  },
  {
   "cell_type": "markdown",
   "metadata": {},
   "source": [
    "# 제목 및 본문 크롤링"
   ]
  },
  {
   "cell_type": "code",
   "execution_count": null,
   "metadata": {},
   "outputs": [],
   "source": [
    "for idx in range(df.shape[0]):\n",
    "    \n",
    "    url = df.loc[idx, 'url']\n",
    "    \n",
    "    try:\n",
    "        res = requests.get(url, headers=headers)\n",
    "        res.raise_for_status()\n",
    "        res.encoding = \"utf-8-sig\"\n",
    "        parser = fromstring(res.text)\n",
    "\n",
    "        title = parser.xpath('//*[@id=\"print_area\"]/div[1]/dl/dt/strong/text()')[0]\n",
    "        text = parser.xpath('//*[@id=\"print_area\"]/div[2]/div')[0].text_content()\n",
    "\n",
    "        df.loc[idx, ['제목', '내용']] = [title, text]\n",
    "    \n",
    "    except:\n",
    "        res = requests.get(url, headers=headers)\n",
    "        res.raise_for_status()\n",
    "        res.encoding = \"utf-8-sig\"\n",
    "        parser = fromstring(res.text)\n",
    "\n",
    "        title = parser.xpath('//*[@id=\"print_area\"]/div[1]/dl/dt/strong/text()')[0]\n",
    "        text = parser.xpath('//*[@id=\"print_area\"]/div[2]/div')[0].text_content()\n",
    "\n",
    "        df.loc[idx, ['제목', '내용']] = [title, text]\n",
    "        \n",
    "    if (idx+1) % 10 == 0:\n",
    "        print(f'{idx+1}번째 url 완료!!')\n",
    "        \n",
    "print(f'{KEYWORD} 저장완료!')\n",
    "df"
   ]
  }
 ],
 "metadata": {
  "kernelspec": {
   "display_name": "Python 3",
   "language": "python",
   "name": "python3"
  },
  "language_info": {
   "codemirror_mode": {
    "name": "ipython",
    "version": 3
   },
   "file_extension": ".py",
   "mimetype": "text/x-python",
   "name": "python",
   "nbconvert_exporter": "python",
   "pygments_lexer": "ipython3",
   "version": "3.8.5"
  }
 },
 "nbformat": 4,
 "nbformat_minor": 4
}
